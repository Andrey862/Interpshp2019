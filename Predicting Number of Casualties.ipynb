{
 "cells": [
  {
   "cell_type": "markdown",
   "metadata": {},
   "source": [
    "# Road Safety Data for the UK"
   ]
  },
  {
   "cell_type": "markdown",
   "metadata": {},
   "source": [
    "# Table of Contents\n",
    "<a id='Table of Contents'></a>\n",
    "\n",
    "### <a href='#1. Obtaining the Data'>1. Obtaining the Data</a>\n",
    "\n",
    "### <a href='#2. Preprocessing the Data'>2. Preprocessing the Data</a>\n",
    "\n",
    "* <a href='#2.1. Handling Date and Time'>2.1. Handling Date and Time</a>\n",
    "* <a href='#2.2. Handling Missing Values'>2.2. Handling Missing Values</a>\n",
    "* <a href='#2.3. Preparing Dataframe'>2.3. Preparing Dataframe</a>\n",
    "* <a href='#2.4. Handling Numerical Data'>2.4. Handling Numerical Data</a>\n",
    "* <a href='#2.5. Handling Categorical Data'>2.5. Handling Categorical Data</a>\n",
    "\n",
    "### <a href='#3. Modeling the Data'>3. Modeling the Data</a>\n",
    "\n",
    "* <a href='#3.1. Train-Test-Split'>3.1. Train-Test-Split</a>\n",
    "* <a href='#3.2. Training and Evaluating Random Forest Regressor'>3.2. Training and Evaluating Random Forest Regressor</a>"
   ]
  },
  {
   "cell_type": "markdown",
   "metadata": {},
   "source": [
    "### 1. Obtaining the Data\n",
    "<a id='1. Obtaining the Data'></a>"
   ]
  },
  {
   "cell_type": "code",
   "execution_count": 33,
   "metadata": {},
   "outputs": [],
   "source": [
    "# import the usual suspects ...\n",
    "import pandas as pd\n",
    "import numpy as np\n",
    "import glob\n",
    "\n",
    "import matplotlib.pyplot as plt\n",
    "import seaborn as sns\n",
    "from pprint import pprint\n",
    "\n",
    "# suppress all warnings\n",
    "import warnings\n",
    "warnings.filterwarnings(\"ignore\")"
   ]
  },
  {
   "cell_type": "markdown",
   "metadata": {},
   "source": [
    "**Accidents DataFrame**"
   ]
  },
  {
   "cell_type": "code",
   "execution_count": 34,
   "metadata": {},
   "outputs": [
    {
     "name": "stdout",
     "output_type": "stream",
     "text": [
      "Records: 2047256 \n",
      "Columns: 34\n"
     ]
    },
    {
     "data": {
      "text/html": [
       "<div>\n",
       "<style scoped>\n",
       "    .dataframe tbody tr th:only-of-type {\n",
       "        vertical-align: middle;\n",
       "    }\n",
       "\n",
       "    .dataframe tbody tr th {\n",
       "        vertical-align: top;\n",
       "    }\n",
       "\n",
       "    .dataframe thead th {\n",
       "        text-align: right;\n",
       "    }\n",
       "</style>\n",
       "<table border=\"1\" class=\"dataframe\">\n",
       "  <thead>\n",
       "    <tr style=\"text-align: right;\">\n",
       "      <th></th>\n",
       "      <th>Accident_Index</th>\n",
       "      <th>1st_Road_Class</th>\n",
       "      <th>1st_Road_Number</th>\n",
       "      <th>2nd_Road_Class</th>\n",
       "      <th>2nd_Road_Number</th>\n",
       "      <th>Accident_Severity</th>\n",
       "      <th>Carriageway_Hazards</th>\n",
       "      <th>Date</th>\n",
       "      <th>Day_of_Week</th>\n",
       "      <th>Did_Police_Officer_Attend_Scene_of_Accident</th>\n",
       "      <th>...</th>\n",
       "      <th>Police_Force</th>\n",
       "      <th>Road_Surface_Conditions</th>\n",
       "      <th>Road_Type</th>\n",
       "      <th>Special_Conditions_at_Site</th>\n",
       "      <th>Speed_limit</th>\n",
       "      <th>Time</th>\n",
       "      <th>Urban_or_Rural_Area</th>\n",
       "      <th>Weather_Conditions</th>\n",
       "      <th>Year</th>\n",
       "      <th>InScotland</th>\n",
       "    </tr>\n",
       "  </thead>\n",
       "  <tbody>\n",
       "    <tr>\n",
       "      <th>0</th>\n",
       "      <td>200501BS00001</td>\n",
       "      <td>A</td>\n",
       "      <td>3218.0</td>\n",
       "      <td>NaN</td>\n",
       "      <td>0.0</td>\n",
       "      <td>Serious</td>\n",
       "      <td>None</td>\n",
       "      <td>2005-01-04</td>\n",
       "      <td>Tuesday</td>\n",
       "      <td>1.0</td>\n",
       "      <td>...</td>\n",
       "      <td>Metropolitan Police</td>\n",
       "      <td>Wet or damp</td>\n",
       "      <td>Single carriageway</td>\n",
       "      <td>None</td>\n",
       "      <td>30.0</td>\n",
       "      <td>17:42</td>\n",
       "      <td>Urban</td>\n",
       "      <td>Raining no high winds</td>\n",
       "      <td>2005</td>\n",
       "      <td>No</td>\n",
       "    </tr>\n",
       "    <tr>\n",
       "      <th>1</th>\n",
       "      <td>200501BS00002</td>\n",
       "      <td>B</td>\n",
       "      <td>450.0</td>\n",
       "      <td>C</td>\n",
       "      <td>0.0</td>\n",
       "      <td>Slight</td>\n",
       "      <td>None</td>\n",
       "      <td>2005-01-05</td>\n",
       "      <td>Wednesday</td>\n",
       "      <td>1.0</td>\n",
       "      <td>...</td>\n",
       "      <td>Metropolitan Police</td>\n",
       "      <td>Dry</td>\n",
       "      <td>Dual carriageway</td>\n",
       "      <td>None</td>\n",
       "      <td>30.0</td>\n",
       "      <td>17:36</td>\n",
       "      <td>Urban</td>\n",
       "      <td>Fine no high winds</td>\n",
       "      <td>2005</td>\n",
       "      <td>No</td>\n",
       "    </tr>\n",
       "    <tr>\n",
       "      <th>2</th>\n",
       "      <td>200501BS00003</td>\n",
       "      <td>C</td>\n",
       "      <td>0.0</td>\n",
       "      <td>NaN</td>\n",
       "      <td>0.0</td>\n",
       "      <td>Slight</td>\n",
       "      <td>None</td>\n",
       "      <td>2005-01-06</td>\n",
       "      <td>Thursday</td>\n",
       "      <td>1.0</td>\n",
       "      <td>...</td>\n",
       "      <td>Metropolitan Police</td>\n",
       "      <td>Dry</td>\n",
       "      <td>Single carriageway</td>\n",
       "      <td>None</td>\n",
       "      <td>30.0</td>\n",
       "      <td>00:15</td>\n",
       "      <td>Urban</td>\n",
       "      <td>Fine no high winds</td>\n",
       "      <td>2005</td>\n",
       "      <td>No</td>\n",
       "    </tr>\n",
       "    <tr>\n",
       "      <th>3</th>\n",
       "      <td>200501BS00004</td>\n",
       "      <td>A</td>\n",
       "      <td>3220.0</td>\n",
       "      <td>NaN</td>\n",
       "      <td>0.0</td>\n",
       "      <td>Slight</td>\n",
       "      <td>None</td>\n",
       "      <td>2005-01-07</td>\n",
       "      <td>Friday</td>\n",
       "      <td>1.0</td>\n",
       "      <td>...</td>\n",
       "      <td>Metropolitan Police</td>\n",
       "      <td>Dry</td>\n",
       "      <td>Single carriageway</td>\n",
       "      <td>None</td>\n",
       "      <td>30.0</td>\n",
       "      <td>10:35</td>\n",
       "      <td>Urban</td>\n",
       "      <td>Fine no high winds</td>\n",
       "      <td>2005</td>\n",
       "      <td>No</td>\n",
       "    </tr>\n",
       "    <tr>\n",
       "      <th>4</th>\n",
       "      <td>200501BS00005</td>\n",
       "      <td>Unclassified</td>\n",
       "      <td>0.0</td>\n",
       "      <td>NaN</td>\n",
       "      <td>0.0</td>\n",
       "      <td>Slight</td>\n",
       "      <td>None</td>\n",
       "      <td>2005-01-10</td>\n",
       "      <td>Monday</td>\n",
       "      <td>1.0</td>\n",
       "      <td>...</td>\n",
       "      <td>Metropolitan Police</td>\n",
       "      <td>Wet or damp</td>\n",
       "      <td>Single carriageway</td>\n",
       "      <td>None</td>\n",
       "      <td>30.0</td>\n",
       "      <td>21:13</td>\n",
       "      <td>Urban</td>\n",
       "      <td>Fine no high winds</td>\n",
       "      <td>2005</td>\n",
       "      <td>No</td>\n",
       "    </tr>\n",
       "  </tbody>\n",
       "</table>\n",
       "<p>5 rows × 34 columns</p>\n",
       "</div>"
      ],
      "text/plain": [
       "  Accident_Index 1st_Road_Class  1st_Road_Number 2nd_Road_Class  \\\n",
       "0  200501BS00001              A           3218.0            NaN   \n",
       "1  200501BS00002              B            450.0              C   \n",
       "2  200501BS00003              C              0.0            NaN   \n",
       "3  200501BS00004              A           3220.0            NaN   \n",
       "4  200501BS00005   Unclassified              0.0            NaN   \n",
       "\n",
       "   2nd_Road_Number Accident_Severity Carriageway_Hazards        Date  \\\n",
       "0              0.0           Serious                None  2005-01-04   \n",
       "1              0.0            Slight                None  2005-01-05   \n",
       "2              0.0            Slight                None  2005-01-06   \n",
       "3              0.0            Slight                None  2005-01-07   \n",
       "4              0.0            Slight                None  2005-01-10   \n",
       "\n",
       "  Day_of_Week  Did_Police_Officer_Attend_Scene_of_Accident    ...      \\\n",
       "0     Tuesday                                          1.0    ...       \n",
       "1   Wednesday                                          1.0    ...       \n",
       "2    Thursday                                          1.0    ...       \n",
       "3      Friday                                          1.0    ...       \n",
       "4      Monday                                          1.0    ...       \n",
       "\n",
       "          Police_Force Road_Surface_Conditions           Road_Type  \\\n",
       "0  Metropolitan Police             Wet or damp  Single carriageway   \n",
       "1  Metropolitan Police                     Dry    Dual carriageway   \n",
       "2  Metropolitan Police                     Dry  Single carriageway   \n",
       "3  Metropolitan Police                     Dry  Single carriageway   \n",
       "4  Metropolitan Police             Wet or damp  Single carriageway   \n",
       "\n",
       "  Special_Conditions_at_Site Speed_limit   Time  Urban_or_Rural_Area  \\\n",
       "0                       None        30.0  17:42                Urban   \n",
       "1                       None        30.0  17:36                Urban   \n",
       "2                       None        30.0  00:15                Urban   \n",
       "3                       None        30.0  10:35                Urban   \n",
       "4                       None        30.0  21:13                Urban   \n",
       "\n",
       "      Weather_Conditions  Year InScotland  \n",
       "0  Raining no high winds  2005         No  \n",
       "1     Fine no high winds  2005         No  \n",
       "2     Fine no high winds  2005         No  \n",
       "3     Fine no high winds  2005         No  \n",
       "4     Fine no high winds  2005         No  \n",
       "\n",
       "[5 rows x 34 columns]"
      ]
     },
     "execution_count": 34,
     "metadata": {},
     "output_type": "execute_result"
    }
   ],
   "source": [
    "accidents = pd.read_csv('Accident_Information.csv')\n",
    "print('Records:', accidents.shape[0], '\\nColumns:', accidents.shape[1])\n",
    "accidents.head()"
   ]
  },
  {
   "cell_type": "code",
   "execution_count": 35,
   "metadata": {},
   "outputs": [],
   "source": [
    "#accidents.info()"
   ]
  },
  {
   "cell_type": "code",
   "execution_count": 36,
   "metadata": {},
   "outputs": [],
   "source": [
    "#accidents.describe().T"
   ]
  },
  {
   "cell_type": "code",
   "execution_count": 37,
   "metadata": {},
   "outputs": [],
   "source": [
    "#accidents.isna().sum()"
   ]
  },
  {
   "cell_type": "markdown",
   "metadata": {},
   "source": [
    "Please use at the [data dictionary](https://github.com/BrittaInData/Road-Safety-UK/blob/master/data/Road-Accident-Safety-Data-Guide.xls) to know what kind of information we have."
   ]
  },
  {
   "cell_type": "markdown",
   "metadata": {},
   "source": [
    "*Back to: <a href='#Table of Contents'> Table of Contents</a>*\n",
    "### 2. Preprocessing the Data\n",
    "<a id='2. Preprocessing the Data'></a>"
   ]
  },
  {
   "cell_type": "markdown",
   "metadata": {},
   "source": [
    "#### 2.1. Handling Date and Time\n",
    "<a id='2.1. Handling Date and Time'></a>"
   ]
  },
  {
   "cell_type": "markdown",
   "metadata": {},
   "source": [
    "We had our `Date` columnwith values not properly stored in the correct format. Let's do this now:"
   ]
  },
  {
   "cell_type": "code",
   "execution_count": 38,
   "metadata": {},
   "outputs": [],
   "source": [
    "accidents['Date']= pd.to_datetime(accidents['Date'], format=\"%Y-%m-%d\")"
   ]
  },
  {
   "cell_type": "code",
   "execution_count": 39,
   "metadata": {},
   "outputs": [
    {
     "name": "stdout",
     "output_type": "stream",
     "text": [
      "<class 'pandas.core.frame.DataFrame'>\n",
      "RangeIndex: 2047256 entries, 0 to 2047255\n",
      "Data columns (total 3 columns):\n",
      "Day_of_Week                                    object\n",
      "Did_Police_Officer_Attend_Scene_of_Accident    float64\n",
      "Junction_Control                               object\n",
      "dtypes: float64(1), object(2)\n",
      "memory usage: 46.9+ MB\n"
     ]
    }
   ],
   "source": [
    "# check\n",
    "accidents.iloc[:, 8:11].info()"
   ]
  },
  {
   "cell_type": "markdown",
   "metadata": {},
   "source": [
    "Next, let's define a new column that groups the `Time` the accidents happened into one of five options:\n",
    "- Morning Rush from 5am to 10am --> value 1\n",
    "- Office Hours from 10am to 3pm (or: 10:00 - 15:00) --> value 2\n",
    "- Afternoon Rush from 3pm to 7pm (or: 15:00 - 19:00) --> value 3\n",
    "- Evening from 7pm to 11pm (or: 19:00 - 23:00) --> value 4\n",
    "- Night from 11pm to 5am (or: 23:00 - 05:00) --> value 5"
   ]
  },
  {
   "cell_type": "code",
   "execution_count": 40,
   "metadata": {},
   "outputs": [],
   "source": [
    "# create a little dictionary to later look up the groups I will create\n",
    "daytime_groups = {1: 'Morning (5-10)', \n",
    "                  2: 'Office Hours (10-15)', \n",
    "                  3: 'Afternoon Rush (15-19)', \n",
    "                  4: 'Evening (19-23)', \n",
    "                  5: 'Night(23-5)'}"
   ]
  },
  {
   "cell_type": "code",
   "execution_count": 41,
   "metadata": {},
   "outputs": [],
   "source": [
    "# slice first and second string from time column\n",
    "accidents['Hour'] = accidents['Time'].str[0:2]\n",
    "\n",
    "# convert new column to numeric datetype\n",
    "accidents['Hour'] = pd.to_numeric(accidents['Hour'])\n",
    "\n",
    "# drop null values in our new column\n",
    "accidents = accidents.dropna(subset=['Hour'])\n",
    "\n",
    "# cast to integer values\n",
    "accidents['Hour'] = accidents['Hour'].astype('int')"
   ]
  },
  {
   "cell_type": "code",
   "execution_count": 42,
   "metadata": {},
   "outputs": [
    {
     "data": {
      "text/html": [
       "<div>\n",
       "<style scoped>\n",
       "    .dataframe tbody tr th:only-of-type {\n",
       "        vertical-align: middle;\n",
       "    }\n",
       "\n",
       "    .dataframe tbody tr th {\n",
       "        vertical-align: top;\n",
       "    }\n",
       "\n",
       "    .dataframe thead th {\n",
       "        text-align: right;\n",
       "    }\n",
       "</style>\n",
       "<table border=\"1\" class=\"dataframe\">\n",
       "  <thead>\n",
       "    <tr style=\"text-align: right;\">\n",
       "      <th></th>\n",
       "      <th>Time</th>\n",
       "      <th>Hour</th>\n",
       "      <th>Daytime</th>\n",
       "    </tr>\n",
       "  </thead>\n",
       "  <tbody>\n",
       "    <tr>\n",
       "      <th>2047251</th>\n",
       "      <td>11:30</td>\n",
       "      <td>11</td>\n",
       "      <td>2</td>\n",
       "    </tr>\n",
       "    <tr>\n",
       "      <th>2047252</th>\n",
       "      <td>13:00</td>\n",
       "      <td>13</td>\n",
       "      <td>2</td>\n",
       "    </tr>\n",
       "    <tr>\n",
       "      <th>2047253</th>\n",
       "      <td>13:30</td>\n",
       "      <td>13</td>\n",
       "      <td>2</td>\n",
       "    </tr>\n",
       "    <tr>\n",
       "      <th>2047254</th>\n",
       "      <td>18:00</td>\n",
       "      <td>18</td>\n",
       "      <td>3</td>\n",
       "    </tr>\n",
       "    <tr>\n",
       "      <th>2047255</th>\n",
       "      <td>13:00</td>\n",
       "      <td>13</td>\n",
       "      <td>2</td>\n",
       "    </tr>\n",
       "  </tbody>\n",
       "</table>\n",
       "</div>"
      ],
      "text/plain": [
       "          Time  Hour Daytime\n",
       "2047251  11:30    11       2\n",
       "2047252  13:00    13       2\n",
       "2047253  13:30    13       2\n",
       "2047254  18:00    18       3\n",
       "2047255  13:00    13       2"
      ]
     },
     "execution_count": 42,
     "metadata": {},
     "output_type": "execute_result"
    }
   ],
   "source": [
    "# define a function that turns the hours into daytime groups\n",
    "def when_was_it(hour):\n",
    "    if hour >= 5 and hour < 10:\n",
    "        return \"1\"\n",
    "    elif hour >= 10 and hour < 15:\n",
    "        return \"2\"\n",
    "    elif hour >= 15 and hour < 19:\n",
    "        return \"3\"\n",
    "    elif hour >= 19 and hour < 23:\n",
    "        return \"4\"\n",
    "    else:\n",
    "        return \"5\"\n",
    "    \n",
    "# apply this function to our temporary hour column\n",
    "accidents['Daytime'] = accidents['Hour'].apply(when_was_it)\n",
    "accidents[['Time', 'Hour', 'Daytime']].tail()"
   ]
  },
  {
   "cell_type": "code",
   "execution_count": 43,
   "metadata": {},
   "outputs": [],
   "source": [
    "# drop old time column and temporary hour column\n",
    "accidents = accidents.drop(columns=['Time', 'Hour'])"
   ]
  },
  {
   "cell_type": "code",
   "execution_count": 44,
   "metadata": {
    "scrolled": false
   },
   "outputs": [
    {
     "data": {
      "image/png": "[encoded data removed]",
      "text/plain": [
       "<matplotlib.figure.Figure at 0x1de1e52b400>"
      ]
     },
     "metadata": {},
     "output_type": "display_data"
    }
   ],
   "source": [
    "# define labels by accessing look up dictionary above\n",
    "labels = tuple(daytime_groups.values())\n",
    "\n",
    "# plot total no. of accidents by daytime\n",
    "accidents.groupby('Daytime').size().plot(kind='bar', color='lightsteelblue', figsize=(12,5), grid=True)\n",
    "plt.xticks(np.arange(5), labels, rotation='horizontal')\n",
    "plt.xlabel(''), plt.ylabel('Count\\n')\n",
    "plt.title('\\nTotal Number of Accidents by Daytime\\n', fontweight='bold')\n",
    "sns.despine(top=True, right=True, left=True, bottom=True);"
   ]
  },
  {
   "cell_type": "code",
   "execution_count": 45,
   "metadata": {},
   "outputs": [
    {
     "data": {
      "image/png": "[encoded data removed]",
      "text/plain": [
       "<matplotlib.figure.Figure at 0x1de3a65d668>"
      ]
     },
     "metadata": {},
     "output_type": "display_data"
    }
   ],
   "source": [
    "# plot average no. of casualties by daytime\n",
    "accidents.groupby('Daytime')['Number_of_Casualties'].mean().plot(kind='bar', color='slategrey', \n",
    "                                                                 figsize=(12,4), grid=False)\n",
    "plt.xticks(np.arange(5), labels, rotation='horizontal')\n",
    "plt.ylim((1,1.5))\n",
    "plt.xlabel(''), plt.ylabel('Average Number of Casualties\\n')\n",
    "plt.title('\\nAverage Number of Casualties by Daytime\\n', fontweight='bold')\n",
    "sns.despine(top=True, right=True, left=True, bottom=True);"
   ]
  },
  {
   "cell_type": "markdown",
   "metadata": {},
   "source": [
    "#### 2.2. Handling Missing Values\n",
    "<a id='2.2. Handling Missing Values'></a>"
   ]
  },
  {
   "cell_type": "code",
   "execution_count": 46,
   "metadata": {},
   "outputs": [
    {
     "name": "stdout",
     "output_type": "stream",
     "text": [
      "Proportion of Missing Values in Accidents Table: 0.495 %\n"
     ]
    }
   ],
   "source": [
    "print('Proportion of Missing Values in Accidents Table:', \n",
    "      round(accidents.isna().sum().sum()/len(accidents),3), '%')"
   ]
  },
  {
   "cell_type": "code",
   "execution_count": 47,
   "metadata": {},
   "outputs": [],
   "source": [
    "#accidents.isna().sum()"
   ]
  },
  {
   "cell_type": "code",
   "execution_count": 48,
   "metadata": {},
   "outputs": [
    {
     "data": {
      "text/plain": [
       "0"
      ]
     },
     "execution_count": 48,
     "metadata": {},
     "output_type": "execute_result"
    }
   ],
   "source": [
    "# drop columns we don't need\n",
    "accidents = accidents.drop(columns=['Location_Easting_OSGR', 'Location_Northing_OSGR', \n",
    "                                    'Longitude', 'Latitude'])\n",
    "\n",
    "# drop remaining records with NaN's\n",
    "accidents = accidents.dropna()\n",
    "\n",
    "# check if we have no NaN's anymore\n",
    "accidents.isna().sum().sum()"
   ]
  },
  {
   "cell_type": "markdown",
   "metadata": {},
   "source": [
    "*Back to: <a href='#Table of Contents'> Table of Contents</a>*\n",
    "#### 2.3. Preparing Dataframe\n",
    "<a id='2.3. Preparing Dataframe'></a>"
   ]
  },
  {
   "cell_type": "code",
   "execution_count": 49,
   "metadata": {},
   "outputs": [
    {
     "data": {
      "text/plain": [
       "0"
      ]
     },
     "execution_count": 49,
     "metadata": {},
     "output_type": "execute_result"
    }
   ],
   "source": [
    "# slice columns we want to use\n",
    "df = accidents[['Accident_Index', 'Accident_Severity', 'Number_of_Vehicles', 'Number_of_Casualties', 'Day_of_Week', \n",
    "                'Daytime', 'Road_Type', 'Speed_limit', 'Urban_or_Rural_Area', 'LSOA_of_Accident_Location']]\n",
    "df.isna().sum().sum()"
   ]
  },
  {
   "cell_type": "code",
   "execution_count": 50,
   "metadata": {},
   "outputs": [],
   "source": [
    "#df.info()    "
   ]
  },
  {
   "cell_type": "code",
   "execution_count": 51,
   "metadata": {},
   "outputs": [],
   "source": [
    "# cast categorical features - currently stored as string data - to their proper data format\n",
    "for col in ['Accident_Severity', 'Day_of_Week', 'Daytime', 'Road_Type', 'Speed_limit', \n",
    "            'Urban_or_Rural_Area', 'LSOA_of_Accident_Location']:\n",
    "    df[col] = df[col].astype('category')\n",
    "    \n",
    "#df.info()"
   ]
  },
  {
   "cell_type": "code",
   "execution_count": 52,
   "metadata": {},
   "outputs": [
    {
     "data": {
      "image/png": "[encoded data removed]",
      "text/plain": [
       "<matplotlib.figure.Figure at 0x1de3a64ee80>"
      ]
     },
     "metadata": {},
     "output_type": "display_data"
    }
   ],
   "source": [
    "# check road type\n",
    "df.groupby('Road_Type')['Number_of_Casualties'].mean().plot(kind='bar', color='slategrey', \n",
    "                                                            figsize=(12,4), grid=False)\n",
    "plt.xticks(np.arange(6), \n",
    "           ['Roundabout', 'One way street', 'Dual carriageway', 'Single carriageway', 'Slip road', 'Unknown'], \n",
    "           rotation='horizontal')\n",
    "plt.ylim((1,1.5))\n",
    "plt.xlabel(''), plt.ylabel('Average Number of Casualties\\n')\n",
    "plt.title('\\nAverage Number of Casualties by Road Type\\n', fontweight='bold')\n",
    "sns.despine(top=True, right=True, left=True, bottom=True);"
   ]
  },
  {
   "cell_type": "code",
   "execution_count": 53,
   "metadata": {},
   "outputs": [
    {
     "data": {
      "image/png": "[encoded data removed]",
      "text/plain": [
       "<matplotlib.figure.Figure at 0x1de3a64e4e0>"
      ]
     },
     "metadata": {},
     "output_type": "display_data"
    }
   ],
   "source": [
    "# check speed limit\n",
    "df.groupby('Speed_limit')['Number_of_Casualties'].mean().plot(kind='bar', color='slategrey', \n",
    "                                                              figsize=(15,4), grid=False)\n",
    "plt.xticks(np.arange(8), \n",
    "           ['None', '10mph', '20mph', '30mph', '40mph', '50mph', '60mph', '70mph'], \n",
    "           rotation='horizontal')\n",
    "plt.ylim((0.6,1.6))\n",
    "plt.xlabel(''), plt.ylabel('Average Number of Casualties\\n')\n",
    "plt.title('\\nAverage Number of Casualties by Speed Limit\\n', fontweight='bold')\n",
    "sns.despine(top=True, right=True, left=True, bottom=True);"
   ]
  },
  {
   "cell_type": "code",
   "execution_count": 54,
   "metadata": {},
   "outputs": [
    {
     "data": {
      "image/png": "[encoded data removed]",
      "text/plain": [
       "<matplotlib.figure.Figure at 0x1de1e4a5898>"
      ]
     },
     "metadata": {},
     "output_type": "display_data"
    }
   ],
   "source": [
    "# check daytime\n",
    "df.groupby('Day_of_Week')['Number_of_Casualties'].mean().plot(kind='bar', color='slategrey', \n",
    "                                                              figsize=(14,4), grid=False)\n",
    "plt.xticks(np.arange(7), \n",
    "           ['Sunday', 'Monday', 'Tuesday', 'Wednesday', 'Thursday', 'Friday', 'Saturday'], \n",
    "           rotation='horizontal')\n",
    "plt.ylim((1.0,1.6))\n",
    "plt.xlabel(''), plt.ylabel('Average Number of Casualties\\n')\n",
    "plt.title('\\nAverage Number of Casualties by Weekday\\n', fontweight='bold')\n",
    "sns.despine(top=True, right=True, left=True, bottom=True);"
   ]
  },
  {
   "cell_type": "markdown",
   "metadata": {},
   "source": [
    "*Back to: <a href='#Table of Contents'> Table of Contents</a>*\n",
    "#### 2.4. Handling Numerical Data \n",
    "<a id='2.4. Handling Numerical Data'></a>"
   ]
  },
  {
   "cell_type": "markdown",
   "metadata": {},
   "source": [
    "*Detecting Outliers*"
   ]
  },
  {
   "cell_type": "code",
   "execution_count": 55,
   "metadata": {},
   "outputs": [],
   "source": [
    "# define numerical columns\n",
    "num_cols = ['Number_of_Casualties']"
   ]
  },
  {
   "cell_type": "code",
   "execution_count": 56,
   "metadata": {},
   "outputs": [
    {
     "data": {
      "image/png": "[encoded data removed]",
      "text/plain": [
       "<matplotlib.figure.Figure at 0x1de1e4eada0>"
      ]
     },
     "metadata": {},
     "output_type": "display_data"
    }
   ],
   "source": [
    "# plotting boxplots\n",
    "sns.set(style='darkgrid')\n",
    "fig, axes = plt.subplots(2,1, figsize=(10,4))\n",
    "\n",
    "for ax, col in zip(axes, num_cols):\n",
    "    df.boxplot(column=col, grid=False, vert=False, ax=ax)\n",
    "    plt.tight_layout();"
   ]
  },
  {
   "cell_type": "code",
   "execution_count": 57,
   "metadata": {},
   "outputs": [],
   "source": [
    "#df['Number_of_Vehicles'].value_counts().head(10)"
   ]
  },
  {
   "cell_type": "code",
   "execution_count": 58,
   "metadata": {},
   "outputs": [],
   "source": [
    "#df['Number_of_Casualties'].value_counts().head(20)"
   ]
  },
  {
   "cell_type": "markdown",
   "metadata": {},
   "source": [
    "*Handling Outliers*"
   ]
  },
  {
   "cell_type": "code",
   "execution_count": 59,
   "metadata": {},
   "outputs": [
    {
     "name": "stdout",
     "output_type": "stream",
     "text": [
      "2    784734\n",
      "1    250753\n",
      "3     77860\n",
      "4     12980\n",
      "5      2374\n",
      "Name: Number_of_Vehicles, dtype: int64\n"
     ]
    }
   ],
   "source": [
    "# phrasing conditionto cut off extreme outliers\n",
    "condition = (df['Number_of_Vehicles'] < 6) & (df['Number_of_Casualties'] < 9)\n",
    "\n",
    "# keep only records that meet our condition\n",
    "df = df[condition]\n",
    "\n",
    "# check\n",
    "print(df['Number_of_Vehicles'].value_counts())"
   ]
  },
  {
   "cell_type": "code",
   "execution_count": 60,
   "metadata": {},
   "outputs": [
    {
     "name": "stdout",
     "output_type": "stream",
     "text": [
      "1    877175\n",
      "2    177525\n",
      "3     48566\n",
      "4     16487\n",
      "5      5874\n",
      "6      2103\n",
      "7       690\n",
      "8       281\n",
      "Name: Number_of_Casualties, dtype: int64\n"
     ]
    }
   ],
   "source": [
    "print(df['Number_of_Casualties'].value_counts())"
   ]
  },
  {
   "cell_type": "markdown",
   "metadata": {},
   "source": [
    "*Binning Numerical Features*\n",
    "\n",
    "... not applicable ..."
   ]
  },
  {
   "cell_type": "markdown",
   "metadata": {},
   "source": [
    "*Feature Scaling*\n",
    "\n",
    "... not applicable ...\n",
    "\n",
    "(Tree based models, which we will use here later, are not distance based models and can handle varying ranges of features. Therefore scaling is not required.)"
   ]
  },
  {
   "cell_type": "markdown",
   "metadata": {},
   "source": [
    "*Back to: <a href='#Table of Contents'> Table of Contents</a>*\n",
    "#### 2.5. Handling Categorical Data\n",
    "<a id='2.5. Handling Categorical Data'></a>"
   ]
  },
  {
   "cell_type": "markdown",
   "metadata": {},
   "source": [
    "*Binning Categorical Features*\n",
    "\n",
    "What is `LSOA_of_Accident_Location`? \n",
    "\n",
    "- A Lower Layer Super Output Area (LSOA) is a GEOGRAPHIC AREA. Lower Layer Super Output Areas are a geographic hierarchy designed to improve the reporting of small area statistics in England and Wales.\n",
    "\n",
    "- Lower Layer Super Output Areas are built from groups of contiguous Output Areas and have been automatically generated to be as consistent in population size as possible, and typically contain from four to six Output Areas. The Minimum population is 1000 and the mean is 1500.\n",
    "\n",
    "- There is a Lower Layer Super Output Area for each POSTCODE in England and Wales. A pseudo code is available for Scotland, Northern Ireland, Channel Islands and the Isle of Man.\n",
    "\n",
    "Location might be a good predictor for the number of casualties - but not on such a granular level. We would need to aggregate location to bigger areas. The look up table I needed to convert the LSOA to MSOA can be found [here](https://geoportal.statistics.gov.uk/datasets/output-area-to-lsoa-to-msoa-to-local-authority-district-december-2017-lookup-with-area-classifications-in-great-britain)."
   ]
  },
  {
   "cell_type": "code",
   "execution_count": 63,
   "metadata": {
    "scrolled": true
   },
   "outputs": [
    {
     "data": {
      "text/html": [
       "<div>\n",
       "<style scoped>\n",
       "    .dataframe tbody tr th:only-of-type {\n",
       "        vertical-align: middle;\n",
       "    }\n",
       "\n",
       "    .dataframe tbody tr th {\n",
       "        vertical-align: top;\n",
       "    }\n",
       "\n",
       "    .dataframe thead th {\n",
       "        text-align: right;\n",
       "    }\n",
       "</style>\n",
       "<table border=\"1\" class=\"dataframe\">\n",
       "  <thead>\n",
       "    <tr style=\"text-align: right;\">\n",
       "      <th></th>\n",
       "      <th>Accident_Index</th>\n",
       "      <th>Accident_Severity</th>\n",
       "      <th>Number_of_Vehicles</th>\n",
       "      <th>Number_of_Casualties</th>\n",
       "      <th>Day_of_Week</th>\n",
       "      <th>Daytime</th>\n",
       "      <th>Road_Type</th>\n",
       "      <th>Speed_limit</th>\n",
       "      <th>Urban_or_Rural_Area</th>\n",
       "      <th>LSOA_of_Accident_Location</th>\n",
       "    </tr>\n",
       "  </thead>\n",
       "  <tbody>\n",
       "    <tr>\n",
       "      <th>1</th>\n",
       "      <td>200501BS00002</td>\n",
       "      <td>Slight</td>\n",
       "      <td>1</td>\n",
       "      <td>1</td>\n",
       "      <td>Wednesday</td>\n",
       "      <td>3</td>\n",
       "      <td>Dual carriageway</td>\n",
       "      <td>30.0</td>\n",
       "      <td>Urban</td>\n",
       "      <td>E01002909</td>\n",
       "    </tr>\n",
       "    <tr>\n",
       "      <th>6</th>\n",
       "      <td>200501BS00007</td>\n",
       "      <td>Slight</td>\n",
       "      <td>2</td>\n",
       "      <td>1</td>\n",
       "      <td>Thursday</td>\n",
       "      <td>4</td>\n",
       "      <td>Single carriageway</td>\n",
       "      <td>30.0</td>\n",
       "      <td>Urban</td>\n",
       "      <td>E01002875</td>\n",
       "    </tr>\n",
       "  </tbody>\n",
       "</table>\n",
       "</div>"
      ],
      "text/plain": [
       "  Accident_Index Accident_Severity  Number_of_Vehicles  Number_of_Casualties  \\\n",
       "1  200501BS00002            Slight                   1                     1   \n",
       "6  200501BS00007            Slight                   2                     1   \n",
       "\n",
       "  Day_of_Week Daytime           Road_Type Speed_limit Urban_or_Rural_Area  \\\n",
       "1   Wednesday       3    Dual carriageway        30.0               Urban   \n",
       "6    Thursday       4  Single carriageway        30.0               Urban   \n",
       "\n",
       "  LSOA_of_Accident_Location  \n",
       "1                 E01002909  \n",
       "6                 E01002875  "
      ]
     },
     "execution_count": 63,
     "metadata": {},
     "output_type": "execute_result"
    }
   ],
   "source": [
    "df.head(2)"
   ]
  },
  {
   "cell_type": "code",
   "execution_count": 64,
   "metadata": {},
   "outputs": [
    {
     "data": {
      "text/html": [
       "<div>\n",
       "<style scoped>\n",
       "    .dataframe tbody tr th:only-of-type {\n",
       "        vertical-align: middle;\n",
       "    }\n",
       "\n",
       "    .dataframe tbody tr th {\n",
       "        vertical-align: top;\n",
       "    }\n",
       "\n",
       "    .dataframe thead th {\n",
       "        text-align: right;\n",
       "    }\n",
       "</style>\n",
       "<table border=\"1\" class=\"dataframe\">\n",
       "  <thead>\n",
       "    <tr style=\"text-align: right;\">\n",
       "      <th></th>\n",
       "      <th>OA11CD</th>\n",
       "      <th>OAC11CD</th>\n",
       "      <th>OAC11NM</th>\n",
       "      <th>LSOA11CD</th>\n",
       "      <th>LSOA11NM</th>\n",
       "      <th>SOAC11CD</th>\n",
       "      <th>SOAC11NM</th>\n",
       "      <th>MSOA11CD</th>\n",
       "      <th>MSOA11NM</th>\n",
       "      <th>LAD17CD</th>\n",
       "      <th>LAD17NM</th>\n",
       "      <th>LACCD</th>\n",
       "      <th>LACNM</th>\n",
       "      <th>RGN11CD</th>\n",
       "      <th>RGN11NM</th>\n",
       "      <th>CTRY11CD</th>\n",
       "      <th>CTRY11NM</th>\n",
       "      <th>FID</th>\n",
       "    </tr>\n",
       "  </thead>\n",
       "  <tbody>\n",
       "    <tr>\n",
       "      <th>0</th>\n",
       "      <td>E00070834</td>\n",
       "      <td>1a2</td>\n",
       "      <td>Established Farming Communities</td>\n",
       "      <td>E01014030</td>\n",
       "      <td>Herefordshire 009D</td>\n",
       "      <td>2b</td>\n",
       "      <td>Prospering countryside life</td>\n",
       "      <td>E02002913</td>\n",
       "      <td>Herefordshire 009</td>\n",
       "      <td>E06000019</td>\n",
       "      <td>Herefordshire, County of</td>\n",
       "      <td>3a2r</td>\n",
       "      <td>Sparse English and Welsh Countryside</td>\n",
       "      <td>E12000005</td>\n",
       "      <td>West Midlands</td>\n",
       "      <td>E92000001</td>\n",
       "      <td>England</td>\n",
       "      <td>11001</td>\n",
       "    </tr>\n",
       "    <tr>\n",
       "      <th>1</th>\n",
       "      <td>E00070835</td>\n",
       "      <td>1a2</td>\n",
       "      <td>Established Farming Communities</td>\n",
       "      <td>E01014028</td>\n",
       "      <td>Herefordshire 009B</td>\n",
       "      <td>2a</td>\n",
       "      <td>Ageing rural neighbourhoods</td>\n",
       "      <td>E02002913</td>\n",
       "      <td>Herefordshire 009</td>\n",
       "      <td>E06000019</td>\n",
       "      <td>Herefordshire, County of</td>\n",
       "      <td>3a2r</td>\n",
       "      <td>Sparse English and Welsh Countryside</td>\n",
       "      <td>E12000005</td>\n",
       "      <td>West Midlands</td>\n",
       "      <td>E92000001</td>\n",
       "      <td>England</td>\n",
       "      <td>11002</td>\n",
       "    </tr>\n",
       "  </tbody>\n",
       "</table>\n",
       "</div>"
      ],
      "text/plain": [
       "      OA11CD OAC11CD                          OAC11NM   LSOA11CD  \\\n",
       "0  E00070834     1a2  Established Farming Communities  E01014030   \n",
       "1  E00070835     1a2  Established Farming Communities  E01014028   \n",
       "\n",
       "             LSOA11NM SOAC11CD                     SOAC11NM   MSOA11CD  \\\n",
       "0  Herefordshire 009D       2b  Prospering countryside life  E02002913   \n",
       "1  Herefordshire 009B       2a  Ageing rural neighbourhoods  E02002913   \n",
       "\n",
       "            MSOA11NM    LAD17CD                   LAD17NM LACCD  \\\n",
       "0  Herefordshire 009  E06000019  Herefordshire, County of  3a2r   \n",
       "1  Herefordshire 009  E06000019  Herefordshire, County of  3a2r   \n",
       "\n",
       "                                  LACNM    RGN11CD        RGN11NM   CTRY11CD  \\\n",
       "0  Sparse English and Welsh Countryside  E12000005  West Midlands  E92000001   \n",
       "1  Sparse English and Welsh Countryside  E12000005  West Midlands  E92000001   \n",
       "\n",
       "  CTRY11NM    FID  \n",
       "0  England  11001  \n",
       "1  England  11002  "
      ]
     },
     "execution_count": 64,
     "metadata": {},
     "output_type": "execute_result"
    }
   ],
   "source": [
    "look_up = pd.read_csv('LSOA_to_MSOA_to_Local_Authority_District_Dec_2017_Lookup.csv')\n",
    "look_up.head(2)"
   ]
  },
  {
   "cell_type": "markdown",
   "metadata": {},
   "source": [
    "To aggregate our accidents locations to counties, let's merge our dataframe with the look up table. The counties here are stored in the `LSOA11NM` column.\n",
    "\n",
    "The *keys* to combine both dataframes are `LSOA_of_Accident_Location` in our dataframe and `LSOA11CD` in our look up table. Both contain the the LSOA location for each accident:"
   ]
  },
  {
   "cell_type": "code",
   "execution_count": 65,
   "metadata": {},
   "outputs": [
    {
     "ename": "ValueError",
     "evalue": "Buffer dtype mismatch, expected 'Python object' but got 'double'",
     "output_type": "error",
     "traceback": [
      "\u001b[1;31m---------------------------------------------------------------------------\u001b[0m",
      "\u001b[1;31mValueError\u001b[0m                                Traceback (most recent call last)",
      "\u001b[1;31mValueError\u001b[0m: Buffer dtype mismatch, expected 'Python object' but got 'double'"
     ]
    },
    {
     "name": "stderr",
     "output_type": "stream",
     "text": [
      "Exception ignored in: 'pandas._libs.lib.is_bool_array'\n",
      "ValueError: Buffer dtype mismatch, expected 'Python object' but got 'double'\n"
     ]
    },
    {
     "data": {
      "text/html": [
       "<div>\n",
       "<style scoped>\n",
       "    .dataframe tbody tr th:only-of-type {\n",
       "        vertical-align: middle;\n",
       "    }\n",
       "\n",
       "    .dataframe tbody tr th {\n",
       "        vertical-align: top;\n",
       "    }\n",
       "\n",
       "    .dataframe thead th {\n",
       "        text-align: right;\n",
       "    }\n",
       "</style>\n",
       "<table border=\"1\" class=\"dataframe\">\n",
       "  <thead>\n",
       "    <tr style=\"text-align: right;\">\n",
       "      <th></th>\n",
       "      <th>Accident_Index</th>\n",
       "      <th>Accident_Severity</th>\n",
       "      <th>Number_of_Vehicles</th>\n",
       "      <th>Number_of_Casualties</th>\n",
       "      <th>Day_of_Week</th>\n",
       "      <th>Daytime</th>\n",
       "      <th>Road_Type</th>\n",
       "      <th>Speed_limit</th>\n",
       "      <th>Urban_or_Rural_Area</th>\n",
       "      <th>LSOA_of_Accident_Location</th>\n",
       "      <th>LSOA11CD</th>\n",
       "      <th>LAD17NM</th>\n",
       "    </tr>\n",
       "  </thead>\n",
       "  <tbody>\n",
       "    <tr>\n",
       "      <th>0</th>\n",
       "      <td>200501BS00002</td>\n",
       "      <td>Slight</td>\n",
       "      <td>1</td>\n",
       "      <td>1</td>\n",
       "      <td>Wednesday</td>\n",
       "      <td>3</td>\n",
       "      <td>Dual carriageway</td>\n",
       "      <td>30.0</td>\n",
       "      <td>Urban</td>\n",
       "      <td>E01002909</td>\n",
       "      <td>E01002909</td>\n",
       "      <td>Kensington and Chelsea</td>\n",
       "    </tr>\n",
       "    <tr>\n",
       "      <th>1</th>\n",
       "      <td>200501BS00002</td>\n",
       "      <td>Slight</td>\n",
       "      <td>1</td>\n",
       "      <td>1</td>\n",
       "      <td>Wednesday</td>\n",
       "      <td>3</td>\n",
       "      <td>Dual carriageway</td>\n",
       "      <td>30.0</td>\n",
       "      <td>Urban</td>\n",
       "      <td>E01002909</td>\n",
       "      <td>E01002909</td>\n",
       "      <td>Kensington and Chelsea</td>\n",
       "    </tr>\n",
       "  </tbody>\n",
       "</table>\n",
       "</div>"
      ],
      "text/plain": [
       "  Accident_Index Accident_Severity  Number_of_Vehicles  Number_of_Casualties  \\\n",
       "0  200501BS00002            Slight                   1                     1   \n",
       "1  200501BS00002            Slight                   1                     1   \n",
       "\n",
       "  Day_of_Week Daytime         Road_Type Speed_limit Urban_or_Rural_Area  \\\n",
       "0   Wednesday       3  Dual carriageway        30.0               Urban   \n",
       "1   Wednesday       3  Dual carriageway        30.0               Urban   \n",
       "\n",
       "  LSOA_of_Accident_Location   LSOA11CD                 LAD17NM  \n",
       "0                 E01002909  E01002909  Kensington and Chelsea  \n",
       "1                 E01002909  E01002909  Kensington and Chelsea  "
      ]
     },
     "execution_count": 65,
     "metadata": {},
     "output_type": "execute_result"
    }
   ],
   "source": [
    "df_merged = pd.merge(df, look_up[['LSOA11CD', 'LAD17NM']], how='left', \n",
    "                     left_on='LSOA_of_Accident_Location', right_on='LSOA11CD')\n",
    "df_merged.head(2)"
   ]
  },
  {
   "cell_type": "code",
   "execution_count": 66,
   "metadata": {},
   "outputs": [
    {
     "data": {
      "text/html": [
       "<div>\n",
       "<style scoped>\n",
       "    .dataframe tbody tr th:only-of-type {\n",
       "        vertical-align: middle;\n",
       "    }\n",
       "\n",
       "    .dataframe tbody tr th {\n",
       "        vertical-align: top;\n",
       "    }\n",
       "\n",
       "    .dataframe thead th {\n",
       "        text-align: right;\n",
       "    }\n",
       "</style>\n",
       "<table border=\"1\" class=\"dataframe\">\n",
       "  <thead>\n",
       "    <tr style=\"text-align: right;\">\n",
       "      <th></th>\n",
       "      <th>Accident_Index</th>\n",
       "      <th>Accident_Severity</th>\n",
       "      <th>Number_of_Casualties</th>\n",
       "      <th>Day_of_Week</th>\n",
       "      <th>Daytime</th>\n",
       "      <th>Road_Type</th>\n",
       "      <th>Speed_limit</th>\n",
       "      <th>Urban_or_Rural_Area</th>\n",
       "      <th>County_of_Accident</th>\n",
       "    </tr>\n",
       "  </thead>\n",
       "  <tbody>\n",
       "    <tr>\n",
       "      <th>0</th>\n",
       "      <td>200501BS00002</td>\n",
       "      <td>Slight</td>\n",
       "      <td>1</td>\n",
       "      <td>Wednesday</td>\n",
       "      <td>3</td>\n",
       "      <td>Dual carriageway</td>\n",
       "      <td>30.0</td>\n",
       "      <td>Urban</td>\n",
       "      <td>Kensington and Chelsea</td>\n",
       "    </tr>\n",
       "    <tr>\n",
       "      <th>6</th>\n",
       "      <td>200501BS00007</td>\n",
       "      <td>Slight</td>\n",
       "      <td>1</td>\n",
       "      <td>Thursday</td>\n",
       "      <td>4</td>\n",
       "      <td>Single carriageway</td>\n",
       "      <td>30.0</td>\n",
       "      <td>Urban</td>\n",
       "      <td>Kensington and Chelsea</td>\n",
       "    </tr>\n",
       "  </tbody>\n",
       "</table>\n",
       "</div>"
      ],
      "text/plain": [
       "  Accident_Index Accident_Severity  Number_of_Casualties Day_of_Week Daytime  \\\n",
       "0  200501BS00002            Slight                     1   Wednesday       3   \n",
       "6  200501BS00007            Slight                     1    Thursday       4   \n",
       "\n",
       "            Road_Type Speed_limit Urban_or_Rural_Area      County_of_Accident  \n",
       "0    Dual carriageway        30.0               Urban  Kensington and Chelsea  \n",
       "6  Single carriageway        30.0               Urban  Kensington and Chelsea  "
      ]
     },
     "execution_count": 66,
     "metadata": {},
     "output_type": "execute_result"
    }
   ],
   "source": [
    "# drop the key columns, rename the inconveniently named column, ...\n",
    "# ... cast it to a categorical datetype, and drop duplicates\n",
    "df_merged = df_merged.drop(columns=['LSOA_of_Accident_Location', 'LSOA11CD','Number_of_Vehicles'])\\\n",
    "                        .rename(columns={'LAD17NM': 'County_of_Accident'})\\\n",
    "                            .astype({'County_of_Accident': 'category'})\\\n",
    "                                .drop_duplicates()\n",
    "\n",
    "df_merged.head(2)"
   ]
  },
  {
   "cell_type": "code",
   "execution_count": 67,
   "metadata": {},
   "outputs": [
    {
     "data": {
      "text/plain": [
       "(1128701, 9)"
      ]
     },
     "execution_count": 67,
     "metadata": {},
     "output_type": "execute_result"
    }
   ],
   "source": [
    "df_merged.shape"
   ]
  },
  {
   "cell_type": "code",
   "execution_count": 68,
   "metadata": {},
   "outputs": [],
   "source": [
    "#df_merged.groupby('County_of_Accident').size().sort_values(ascending=False).head()"
   ]
  },
  {
   "cell_type": "code",
   "execution_count": 69,
   "metadata": {},
   "outputs": [
    {
     "data": {
      "text/html": [
       "<div>\n",
       "<style scoped>\n",
       "    .dataframe tbody tr th:only-of-type {\n",
       "        vertical-align: middle;\n",
       "    }\n",
       "\n",
       "    .dataframe tbody tr th {\n",
       "        vertical-align: top;\n",
       "    }\n",
       "\n",
       "    .dataframe thead th {\n",
       "        text-align: right;\n",
       "    }\n",
       "</style>\n",
       "<table border=\"1\" class=\"dataframe\">\n",
       "  <thead>\n",
       "    <tr style=\"text-align: right;\">\n",
       "      <th></th>\n",
       "      <th>County_of_Accident</th>\n",
       "      <th>Count</th>\n",
       "    </tr>\n",
       "  </thead>\n",
       "  <tbody>\n",
       "    <tr>\n",
       "      <th>0</th>\n",
       "      <td>Adur</td>\n",
       "      <td>1238</td>\n",
       "    </tr>\n",
       "    <tr>\n",
       "      <th>1</th>\n",
       "      <td>Allerdale</td>\n",
       "      <td>1476</td>\n",
       "    </tr>\n",
       "    <tr>\n",
       "      <th>2</th>\n",
       "      <td>Amber Valley</td>\n",
       "      <td>1858</td>\n",
       "    </tr>\n",
       "    <tr>\n",
       "      <th>3</th>\n",
       "      <td>Arun</td>\n",
       "      <td>2567</td>\n",
       "    </tr>\n",
       "    <tr>\n",
       "      <th>4</th>\n",
       "      <td>Ashfield</td>\n",
       "      <td>2663</td>\n",
       "    </tr>\n",
       "  </tbody>\n",
       "</table>\n",
       "</div>"
      ],
      "text/plain": [
       "  County_of_Accident  Count\n",
       "0               Adur   1238\n",
       "1          Allerdale   1476\n",
       "2       Amber Valley   1858\n",
       "3               Arun   2567\n",
       "4           Ashfield   2663"
      ]
     },
     "execution_count": 69,
     "metadata": {},
     "output_type": "execute_result"
    }
   ],
   "source": [
    "df_plot = df_merged.groupby('County_of_Accident').size().reset_index().rename(columns={0:'Count'})\n",
    "df_plot.head()"
   ]
  },
  {
   "cell_type": "code",
   "execution_count": 70,
   "metadata": {},
   "outputs": [
    {
     "data": {
      "text/plain": [
       "(1128701, 9)"
      ]
     },
     "execution_count": 70,
     "metadata": {},
     "output_type": "execute_result"
    }
   ],
   "source": [
    "# define numerical feature column\n",
    "num_col = []\n",
    "\n",
    "# define categorical feature columns\n",
    "cat_cols = ['Accident_Severity', 'Day_of_Week', 'Daytime', 'Road_Type', 'Speed_limit', \n",
    "            'Urban_or_Rural_Area', 'County_of_Accident']\n",
    "\n",
    "# define target column\n",
    "target_col = ['Number_of_Casualties']\n",
    "\n",
    "cols = cat_cols + num_cols + target_col\n",
    "\n",
    "# copy dataframe\n",
    "df_model = df_merged[cols].copy()\n",
    "df_model.shape"
   ]
  },
  {
   "cell_type": "markdown",
   "metadata": {},
   "source": [
    "*Encoding Categorical Features*"
   ]
  },
  {
   "cell_type": "code",
   "execution_count": 71,
   "metadata": {},
   "outputs": [
    {
     "data": {
      "text/plain": [
       "(1128701, 376)"
      ]
     },
     "execution_count": 71,
     "metadata": {},
     "output_type": "execute_result"
    }
   ],
   "source": [
    "# create dummy variables from the categorical features\n",
    "dummies = pd.get_dummies(df_model[cat_cols], drop_first=True)\n",
    "df_model = pd.concat([df_model[num_cols], df_model[target_col], dummies], axis=1)\n",
    "df_model.shape"
   ]
  },
  {
   "cell_type": "code",
   "execution_count": 72,
   "metadata": {},
   "outputs": [
    {
     "data": {
      "text/plain": [
       "0"
      ]
     },
     "execution_count": 72,
     "metadata": {},
     "output_type": "execute_result"
    }
   ],
   "source": [
    "df_model.isna().sum().sum()"
   ]
  },
  {
   "cell_type": "code",
   "execution_count": 73,
   "metadata": {},
   "outputs": [],
   "source": [
    "#df_model.info()"
   ]
  },
  {
   "cell_type": "markdown",
   "metadata": {},
   "source": [
    "*Back to: <a href='#Table of Contents'> Table of Contents</a>*\n",
    "### 3. Modeling the Data\n",
    "<a id='3. Modeling the Data'></a>"
   ]
  },
  {
   "cell_type": "markdown",
   "metadata": {},
   "source": [
    "#### 3.1. Train-Test-Split\n",
    "<a id='3.1. Train-Test-Split'></a>"
   ]
  },
  {
   "cell_type": "code",
   "execution_count": 74,
   "metadata": {},
   "outputs": [],
   "source": [
    "# define our features \n",
    "features = df_model.drop(['Number_of_Casualties'], axis=1)\n",
    "\n",
    "# define our target\n",
    "target = df_model[['Number_of_Casualties']]"
   ]
  },
  {
   "cell_type": "code",
   "execution_count": 75,
   "metadata": {},
   "outputs": [],
   "source": [
    "from sklearn.model_selection import train_test_split\n",
    "\n",
    "# split our data\n",
    "X_train, X_test, y_train, y_test = train_test_split(features, target, test_size=0.2)"
   ]
  },
  {
   "cell_type": "markdown",
   "metadata": {},
   "source": [
    "*Back to: <a href='#Table of Contents'> Table of Contents</a>*\n",
    "#### 3.2. Training and Evaluating Random Forest Regressor\n",
    "<a id='3.2. Training and Evaluating Random Forest Regressor'></a>"
   ]
  },
  {
   "cell_type": "code",
   "execution_count": 76,
   "metadata": {},
   "outputs": [
    {
     "name": "stderr",
     "output_type": "stream",
     "text": [
      "C:\\Users\\User\\Anaconda3\\lib\\site-packages\\sklearn\\ensemble\\weight_boosting.py:29: DeprecationWarning: numpy.core.umath_tests is an internal NumPy module and should not be imported. It will be removed in a future NumPy release.\n",
      "  from numpy.core.umath_tests import inner1d\n"
     ]
    }
   ],
   "source": [
    "# import regressor\n",
    "from sklearn.ensemble import RandomForestRegressor\n",
    "\n",
    "# import metrics\n",
    "from sklearn.metrics import mean_squared_error, r2_score\n",
    "\n",
    "# import evaluation tools\n",
    "from sklearn.model_selection import RandomizedSearchCV"
   ]
  },
  {
   "cell_type": "code",
   "execution_count": null,
   "metadata": {},
   "outputs": [],
   "source": [
    "# create RandomForestRegressor\n",
    "forest = RandomForestRegressor(random_state=4, n_jobs=-1)\n",
    "\n",
    "# train\n",
    "forest.fit(X_train, y_train)\n",
    "\n",
    "# predict\n",
    "y_train_preds = forest.predict(X_train)\n",
    "y_test_preds  = forest.predict(X_test)\n",
    "\n",
    "# evaluate\n",
    "RMSE = np.sqrt(mean_squared_error(y_test, y_test_preds))\n",
    "print(f\"RMSE: {round(RMSE, 4)}\")\n",
    "\n",
    "r2 = r2_score(y_test, y_test_preds)\n",
    "print(f\"r2: {round(r2, 4)}\")"
   ]
  },
  {
   "cell_type": "code",
   "execution_count": null,
   "metadata": {},
   "outputs": [],
   "source": [
    "# look at parameters used by our current forest\n",
    "print('Parameters currently in use:\\n')\n",
    "pprint(forest.get_params())"
   ]
  },
  {
   "cell_type": "code",
   "execution_count": null,
   "metadata": {},
   "outputs": [],
   "source": [
    "# create range of candidate numbers of trees in random forest\n",
    "n_estimators = [100, 150]\n",
    "\n",
    "# create range of candidate max. numbers of levels in tree\n",
    "max_depth = [3, 4, 5]\n",
    "\n",
    "# create range of candidate min. numbers of samples required to split a node\n",
    "min_samples_split = [10, 15, 20]\n",
    "\n",
    "# create dictionary with hyperparameter options\n",
    "hyperparameters = dict(n_estimators=n_estimators, max_depth=max_depth, min_samples_split=min_samples_split)\n",
    "hyperparameters"
   ]
  },
  {
   "cell_type": "code",
   "execution_count": null,
   "metadata": {},
   "outputs": [],
   "source": [
    "# create randomized search\n",
    "#randomized_search = RandomizedSearchCV(forest, hyperparameters, n_jobs=-1)\n",
    "\n",
    "# fit randomized search\n",
    "#best_model = randomized_search.fit(X_train, y_train)\n",
    "\n",
    "# view best parameters\n",
    "#print(best_model.best_params_)"
   ]
  },
  {
   "cell_type": "code",
   "execution_count": null,
   "metadata": {},
   "outputs": [],
   "source": [
    "# view best value for specific parameter\n",
    "#print(best_model.best_estimator_.get_params()['n_estimators'])"
   ]
  },
  {
   "cell_type": "code",
   "execution_count": null,
   "metadata": {},
   "outputs": [],
   "source": [
    "# create RandomForestRegressor with best found hyperparameters\n",
    "forest = RandomForestRegressor(n_estimators=150, max_depth=5, random_state=4, n_jobs=-1)\n",
    "\n",
    "# train\n",
    "forest.fit(X_train, y_train)\n",
    "\n",
    "# predict\n",
    "y_train_preds = forest.predict(X_train)\n",
    "y_test_preds  = forest.predict(X_test)\n",
    "\n",
    "# evaluate\n",
    "RMSE = np.sqrt(mean_squared_error(y_test, y_test_preds))\n",
    "print(f\"RMSE: {round(RMSE, 4)}\")\n",
    "\n",
    "r2 = r2_score(y_test, y_test_preds)\n",
    "print(f\"r2: {round(r2, 4)}\")"
   ]
  },
  {
   "cell_type": "code",
   "execution_count": null,
   "metadata": {},
   "outputs": [],
   "source": [
    "# plot the important features\n",
    "feat_importances = pd.Series(forest.feature_importances_, index=features.columns)\n",
    "feat_importances.nlargest(10).sort_values().plot(kind='barh', color='darkgrey', figsize=(10,5))\n",
    "plt.xlabel('Relative Feature Importance with Random Forest');"
   ]
  }
 ],
 "metadata": {
  "kernelspec": {
   "display_name": "Python 3",
   "language": "python",
   "name": "python3"
  },
  "language_info": {
   "codemirror_mode": {
    "name": "ipython",
    "version": 3
   },
   "file_extension": ".py",
   "mimetype": "text/x-python",
   "name": "python",
   "nbconvert_exporter": "python",
   "pygments_lexer": "ipython3",
   "version": "3.6.4"
  }
 },
 "nbformat": 4,
 "nbformat_minor": 1
}
